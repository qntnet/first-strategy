{
 "cells": [
  {
   "cell_type": "markdown",
   "metadata": {},
   "source": [
    "# First strategy"
   ]
  },
  {
   "cell_type": "markdown",
   "metadata": {},
   "source": [
    "Below are basics steps that might be included in each strategy. "
   ]
  },
  {
   "cell_type": "markdown",
   "metadata": {},
   "source": [
    "### 1. Preparations\n",
    "At first one needs to prepare the workspace - load data and libraries"
   ]
  },
  {
   "cell_type": "code",
   "execution_count": null,
   "metadata": {},
   "outputs": [],
   "source": [
    "# Import basic libraries.\n",
    "import xarray as xr\n",
    "import numpy as np\n",
    "import pandas as pd\n",
    "\n",
    "# Import quantnet libraries.\n",
    "import qnt.data    as qndata\n",
    "import qnt.stepper as qnstepper\n",
    "import qnt.stats   as qnstats\n",
    "import qnt.graph   as qngraph\n",
    "import qnt.ta      as qnta # indicators library\n",
    "import qnt.forward_looking as qnfl # forward looking checking\n",
    "import qnt.exposure as qne\n",
    "\n",
    "import datetime as dt"
   ]
  },
  {
   "cell_type": "code",
   "execution_count": null,
   "metadata": {},
   "outputs": [],
   "source": [
    "# load historical data\n",
    "data = qndata.load_data(\n",
    "                       tail = dt.timedelta(days=4*365),\n",
    "                       dims = (\"time\", \"field\", \"asset\"),\n",
    "                       forward_order=True)"
   ]
  },
  {
   "cell_type": "markdown",
   "metadata": {},
   "source": [
    "\"data\" is xarray.DataArray that contains stocks historical data. For instance, we want Apple stock open and close prices:"
   ]
  },
  {
   "cell_type": "code",
   "execution_count": null,
   "metadata": {},
   "outputs": [],
   "source": [
    "apple_close = data.loc[::, \"close\", \"NASDAQ:AAPL\"]\n",
    "apple_open = data.loc[::, \"open\", \"NASDAQ:AAPL\"]\n",
    "\n",
    "display(apple_close.to_pandas()) # jupyter has a nice formatter for pandas series and dataframes"
   ]
  },
  {
   "cell_type": "code",
   "execution_count": null,
   "metadata": {},
   "outputs": [],
   "source": [
    "# you can also work with pandas:\n",
    "# apple_close = data.loc[::, \"close\", :].to_pandas()[\"NASDAQ:AAPL\"]"
   ]
  },
  {
   "cell_type": "markdown",
   "metadata": {},
   "source": [
    "Available data explanation is [here](https://quantnet.ai/learn/:availableData_Table). Some other data:"
   ]
  },
  {
   "cell_type": "code",
   "execution_count": null,
   "metadata": {},
   "outputs": [],
   "source": [
    "all_close = data.loc[::, \"close\", :]\n",
    "all_open = data.loc[::, \"open\", :]\n",
    "\n",
    "# boolean parameter. True if the stock is in top 500 most liquid stocks over the last month\n",
    "liquid = data.loc[::, \"is_liquid\", :]"
   ]
  },
  {
   "cell_type": "markdown",
   "metadata": {},
   "source": [
    "### 2. Weights allocation"
   ]
  },
  {
   "cell_type": "markdown",
   "metadata": {},
   "source": [
    "Suppose, we have a traiding idea - invest money when the change is positive."
   ]
  },
  {
   "cell_type": "markdown",
   "metadata": {},
   "source": [
    "We can allocate capital by assigning weights to the portfolio instuments (more [details](https://quantnet.ai/learn/:gettingStarted)):"
   ]
  },
  {
   "cell_type": "code",
   "execution_count": null,
   "metadata": {},
   "outputs": [],
   "source": [
    "changes = qnta.change(all_close, 122)\n",
    "weights = xr.where(changes > 0, 1, 0) # buy when price goes up, sell when price goes down"
   ]
  },
  {
   "cell_type": "markdown",
   "metadata": {},
   "source": [
    "You can implement and test any idea you want. Some other examples:"
   ]
  },
  {
   "cell_type": "code",
   "execution_count": null,
   "metadata": {},
   "outputs": [],
   "source": [
    "# buy all positions: weights = all_open/all_open\n",
    "# sell all positions: weights = -all_open/all_open\n",
    "# the more price change, the more we buy = (all_close - all_open)/all_open"
   ]
  },
  {
   "cell_type": "markdown",
   "metadata": {},
   "source": [
    "Notice that we trade only liquid stocks. One can form output weights:"
   ]
  },
  {
   "cell_type": "code",
   "execution_count": null,
   "metadata": {},
   "outputs": [],
   "source": [
    "output = weights*liquid"
   ]
  },
  {
   "cell_type": "code",
   "execution_count": null,
   "metadata": {},
   "outputs": [],
   "source": [
    "# If you worked with pandas and weigths is pandas.Dataframe:\n",
    "# output = xr.DataArray(weights.values, dims = [\"time\",\"asset\"], coords= {\"time\":weights.index,\"asset\":weights.columns} )"
   ]
  },
  {
   "cell_type": "markdown",
   "metadata": {},
   "source": [
    "Output normalization, weights sum for one day should be <= 1"
   ]
  },
  {
   "cell_type": "code",
   "execution_count": null,
   "metadata": {},
   "outputs": [],
   "source": [
    "output = output / abs(output).sum('asset')"
   ]
  },
  {
   "cell_type": "markdown",
   "metadata": {},
   "source": [
    "Accourding to the rules, we should fix exposure:"
   ]
  },
  {
   "cell_type": "code",
   "execution_count": null,
   "metadata": {},
   "outputs": [],
   "source": [
    "output = qne.drop_bad_days(output)\n",
    "qnstats.check_exposure(output)"
   ]
  },
  {
   "cell_type": "markdown",
   "metadata": {},
   "source": [
    "### 3. Perfomance estimation"
   ]
  },
  {
   "cell_type": "markdown",
   "metadata": {},
   "source": [
    "Once we have constructed an algorithm we need to evaluate it. At first, we need to calculate statistic."
   ]
  },
  {
   "cell_type": "code",
   "execution_count": null,
   "metadata": {},
   "outputs": [],
   "source": [
    "# calc_stat calculate statistic on a relevenat time frame window\n",
    "stat = qnstats.calc_stat(data, output)\n",
    "display(stat.to_pandas().tail())"
   ]
  },
  {
   "cell_type": "markdown",
   "metadata": {},
   "source": [
    "Algorithm results, calculated on historical data, are usually presented on an [equity graph](https://quantnet.ai/learn/:relativeReturns) in order to understand the behavior of the cumulative profit:"
   ]
  },
  {
   "cell_type": "code",
   "execution_count": null,
   "metadata": {},
   "outputs": [],
   "source": [
    "# show plot with profit and losses:\n",
    "performance = stat.to_pandas()[\"equity\"]\n",
    "qngraph.make_plot_filled(performance.index, performance, name=\"PnL (Equity)\", type=\"log\")"
   ]
  },
  {
   "cell_type": "markdown",
   "metadata": {},
   "source": [
    "We use a set of [criteria](https://quantnet.ai/learn/:quality_criteria) to evaluate the performance. You can submit your algorithm and take part in a competition if it passes all the [requirements](https://quantnet.ai/learn/:requirements)."
   ]
  },
  {
   "cell_type": "code",
   "execution_count": null,
   "metadata": {},
   "outputs": [],
   "source": [
    "# Actual sharpe on a relevant timeframe. \n",
    "# According to the rules the Sharpe ratio must be greater than 1:\n",
    "display(stat[-1:].sel(field = [\"sharpe_ratio\"]).transpose().to_pandas())"
   ]
  },
  {
   "cell_type": "code",
   "execution_count": null,
   "metadata": {},
   "outputs": [],
   "source": [
    "# According to the rules the correlation with other strategies must be less than 90%:\n",
    "qnstats.print_correlation(output, data)"
   ]
  },
  {
   "cell_type": "markdown",
   "metadata": {},
   "source": [
    "### 4. Submit"
   ]
  },
  {
   "cell_type": "markdown",
   "metadata": {},
   "source": [
    "If you are satisfied enough with your algorithm and it passes all the requirements you can submit it."
   ]
  },
  {
   "cell_type": "code",
   "execution_count": null,
   "metadata": {},
   "outputs": [],
   "source": [
    "# Finally, write the output\n",
    "qnstepper.write_output(output)"
   ]
  },
  {
   "cell_type": "markdown",
   "metadata": {},
   "source": [
    "At this stage the code is ready for submission. Just click on the submission button in your account page and we will evaluate your strategy live on our servers!"
   ]
  }
 ],
 "metadata": {
  "kernelspec": {
   "display_name": "Python 3",
   "language": "python",
   "name": "python3"
  },
  "language_info": {
   "codemirror_mode": {
    "name": "ipython",
    "version": 3
   },
   "file_extension": ".py",
   "mimetype": "text/x-python",
   "name": "python",
   "nbconvert_exporter": "python",
   "pygments_lexer": "ipython3",
   "version": "3.7.6"
  }
 },
 "nbformat": 4,
 "nbformat_minor": 4
}
